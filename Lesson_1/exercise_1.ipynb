{
 "cells": [
  {
   "cell_type": "markdown",
   "id": "f3fed7ed",
   "metadata": {},
   "source": [
    "# Exercise-1: practice with basic syntax"
   ]
  },
  {
   "cell_type": "code",
   "execution_count": null,
   "id": "3516d2cb",
   "metadata": {},
   "outputs": [],
   "source": [
    "# Person 'object'\n",
    "# contains a 'name' and 'height' fields\n",
    "class Person:\n",
    "    def __init__(self, name, height):\n",
    "        self.name = name\n",
    "        self.height = height"
   ]
  },
  {
   "cell_type": "code",
   "execution_count": null,
   "id": "54c6b362",
   "metadata": {},
   "outputs": [],
   "source": [
    "# Create a variable `hometown` that stores the city in which you were born\n",
    "\n",
    "## Enter Code Below\n",
    "## ----------------\n"
   ]
  },
  {
   "cell_type": "code",
   "execution_count": null,
   "id": "801eb874",
   "metadata": {},
   "outputs": [],
   "source": [
    "# Assign your name to the variable `name`\n",
    "\n",
    "## Enter Code Below\n",
    "## ----------------"
   ]
  },
  {
   "cell_type": "code",
   "execution_count": null,
   "id": "ebd5d2d3",
   "metadata": {},
   "outputs": [],
   "source": [
    "# Assign your height to a variable `height`\n",
    "\n",
    "## Enter Code Below\n",
    "## ----------------"
   ]
  },
  {
   "cell_type": "code",
   "execution_count": null,
   "id": "ba1c1dd2",
   "metadata": {},
   "outputs": [],
   "source": [
    "# Create a person with the `name` and `height` variable\n",
    "\n",
    "## Enter Code Below\n",
    "## ----------------"
   ]
  },
  {
   "cell_type": "code",
   "execution_count": null,
   "id": "7e46a189",
   "metadata": {},
   "outputs": [],
   "source": [
    "# Print the `name` of your person using the person's field\n",
    "\n",
    "## Enter Code Below\n",
    "## ----------------"
   ]
  },
  {
   "cell_type": "code",
   "execution_count": null,
   "id": "68d3bdb4",
   "metadata": {},
   "outputs": [],
   "source": [
    "# Get the type of `name` of your person i.e. type(name)\n",
    "\n",
    "## Enter Code Below\n",
    "## ----------------"
   ]
  },
  {
   "cell_type": "code",
   "execution_count": null,
   "id": "d48a71bc",
   "metadata": {},
   "outputs": [],
   "source": [
    "# Use the help method of that type to see what you can do i.e. help(type)\n",
    "\n",
    "## Enter Code Below\n",
    "## ----------------"
   ]
  },
  {
   "cell_type": "code",
   "execution_count": null,
   "id": "3307fb93",
   "metadata": {},
   "outputs": [],
   "source": [
    "# Create a variable `puppies` equal to the number of puppies you'd like to have\n",
    "\n",
    "## Enter Code Below\n",
    "## ----------------"
   ]
  },
  {
   "cell_type": "code",
   "execution_count": null,
   "id": "d9c00c68",
   "metadata": {},
   "outputs": [],
   "source": [
    "# Create a variable `puppyPrice`, which is how expensive you think a puppy is\n",
    "\n",
    "## Enter Code Below\n",
    "## ----------------"
   ]
  },
  {
   "cell_type": "code",
   "execution_count": null,
   "id": "807339db",
   "metadata": {},
   "outputs": [],
   "source": [
    "# Create a variable `totalCost` that has the total cost of all of your puppies\n",
    "\n",
    "## Enter Code Below\n",
    "## ----------------"
   ]
  },
  {
   "cell_type": "code",
   "execution_count": null,
   "id": "582f3969",
   "metadata": {},
   "outputs": [],
   "source": [
    "# Create a boolean variable `tooExpensive`, set to true if the cost is greater than $1,000\n",
    "\n",
    "## Enter Code Below\n",
    "## ----------------"
   ]
  },
  {
   "cell_type": "code",
   "execution_count": null,
   "id": "2505b1f9",
   "metadata": {},
   "outputs": [],
   "source": [
    "# Create a variable `maxPuppies`, which is the number of puppies you can afford for $1K.  Compute this\n",
    "# value in Python, not just assign!\n",
    "\n",
    "## Enter Code Below\n",
    "## ----------------"
   ]
  }
 ],
 "metadata": {
  "kernelspec": {
   "display_name": "Python 3 (ipykernel)",
   "language": "python",
   "name": "python3"
  },
  "language_info": {
   "codemirror_mode": {
    "name": "ipython",
    "version": 3
   },
   "file_extension": ".py",
   "mimetype": "text/x-python",
   "name": "python",
   "nbconvert_exporter": "python",
   "pygments_lexer": "ipython3",
   "version": "3.9.7"
  }
 },
 "nbformat": 4,
 "nbformat_minor": 5
}
