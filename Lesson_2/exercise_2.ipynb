{
 "cells": [
  {
   "cell_type": "code",
   "execution_count": 7,
   "id": "bbc854f1",
   "metadata": {},
   "outputs": [],
   "source": [
    "# Assign your name to the variable `name`\n",
    "\n",
    "## Enter Code Below\n",
    "## ----------------\n"
   ]
  },
  {
   "cell_type": "code",
   "execution_count": 11,
   "id": "1e23ef54",
   "metadata": {},
   "outputs": [],
   "source": [
    "# Create a variable `hometown` that stores the city in which you were born\n",
    "\n",
    "## Enter Code Below\n",
    "## ----------------\n"
   ]
  },
  {
   "cell_type": "code",
   "execution_count": 9,
   "id": "40e7de87",
   "metadata": {},
   "outputs": [],
   "source": [
    "# Assign your age to the variable `age`\n",
    "\n",
    "## Enter Code Below\n",
    "## ----------------\n"
   ]
  },
  {
   "cell_type": "code",
   "execution_count": 12,
   "id": "257c900e",
   "metadata": {},
   "outputs": [],
   "source": [
    "# Create a function called 'greeting' that will print in this format: \n",
    "# \"Hi, my name is {name}! I am {age} years old and I am from the city of {hometown}.\"\n",
    "\n",
    "## Enter Code Below\n",
    "## ----------------\n"
   ]
  },
  {
   "cell_type": "code",
   "execution_count": 17,
   "id": "fd695f62",
   "metadata": {},
   "outputs": [],
   "source": [
    "# Create a function called 'add50' that will take the age and add 50 years\n",
    "\n",
    "## Enter Code Below\n",
    "## ----------------\n"
   ]
  },
  {
   "cell_type": "code",
   "execution_count": 18,
   "id": "aea5c71a",
   "metadata": {},
   "outputs": [],
   "source": [
    "# Use the 'greeting' method above to greet yourself\n",
    "\n",
    "## Enter Code Below\n",
    "## ----------------\n"
   ]
  },
  {
   "cell_type": "code",
   "execution_count": 20,
   "id": "6ffabc7e",
   "metadata": {},
   "outputs": [],
   "source": [
    "# Use the 'add50' method above to get your new age\n",
    "# Note: This should be set to your new age.\n",
    "\n",
    "## Enter Code Below\n",
    "## ----------------\n"
   ]
  },
  {
   "cell_type": "code",
   "execution_count": 22,
   "id": "6414a1a8",
   "metadata": {},
   "outputs": [],
   "source": [
    "# Print your new age. It should be 50 more than the original age you inputted.\n",
    "\n",
    "## Enter Code Below\n",
    "## ----------------\n"
   ]
  }
 ],
 "metadata": {
  "kernelspec": {
   "display_name": "Python 3 (ipykernel)",
   "language": "python",
   "name": "python3"
  },
  "language_info": {
   "codemirror_mode": {
    "name": "ipython",
    "version": 3
   },
   "file_extension": ".py",
   "mimetype": "text/x-python",
   "name": "python",
   "nbconvert_exporter": "python",
   "pygments_lexer": "ipython3",
   "version": "3.9.7"
  }
 },
 "nbformat": 4,
 "nbformat_minor": 5
}
